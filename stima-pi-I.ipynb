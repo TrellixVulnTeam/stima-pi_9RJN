{
 "cells": [
  {
   "cell_type": "markdown",
   "metadata": {},
   "source": [
    "# Stima numerica"
   ]
  },
  {
   "cell_type": "markdown",
   "metadata": {},
   "source": [
    "Dati: Quadrato di lato $\\ell = 2$\n",
    "\n",
    "$Area_{quadrato} = 4$\n",
    "\n",
    "$n$ numero di estrazioni"
   ]
  },
  {
   "cell_type": "code",
   "execution_count": null,
   "metadata": {},
   "outputs": [],
   "source": [
    "import random\n",
    "import math"
   ]
  },
  {
   "cell_type": "code",
   "execution_count": null,
   "metadata": {},
   "outputs": [],
   "source": [
    "n = 1000\n",
    "conta = 0\n",
    "for k in range(0,n):\n",
    "    x = random.random()\n",
    "    y = random.random()\n",
    "    d = math.sqrt(x**2+y**2)\n",
    "    if d <= 1:\n",
    "        conta += 1\n",
    "#si moltiplica per 4 quarto di cerchio\n",
    "print(4*conta/n)"
   ]
  },
  {
   "cell_type": "markdown",
   "metadata": {},
   "source": [
    "# Grafica"
   ]
  },
  {
   "cell_type": "code",
   "execution_count": null,
   "metadata": {},
   "outputs": [],
   "source": [
    "import matplotlib.pyplot as plt\n",
    "import numpy as np"
   ]
  },
  {
   "cell_type": "code",
   "execution_count": null,
   "metadata": {},
   "outputs": [],
   "source": [
    "n = 5000\n",
    "conta = 0\n",
    "puntoX = []\n",
    "puntoY = []\n",
    "ilcolore = []\n",
    "dentro = 'r.'\n",
    "fuori = 'b.'\n",
    "for k in range(0,n):\n",
    "    x = random.random()*2-1\n",
    "    y = random.random()*2-1\n",
    "    puntoX.append(x)\n",
    "    puntoY.append(y)\n",
    "    d = math.sqrt(x**2+y**2)\n",
    "    if d <= 1:\n",
    "        conta += 1\n",
    "        ilcolore.append(dentro)\n",
    "    else:\n",
    "        ilcolore.append(fuori)   \n",
    "puntoX = np.array(puntoX, dtype=np.float64)\n",
    "puntoY = np.array(puntoY, dtype=np.float64)\n",
    "plt.figure(figsize=(10,10))\n",
    "for k in range(0,n):\n",
    "    plt.plot(puntoX[k], puntoY[k], ilcolore[k])\n",
    "plt.show()"
   ]
  },
  {
   "cell_type": "markdown",
   "metadata": {},
   "source": [
    "$\\dfrac{n_{rossi}}{n_{totale}}=\\dfrac{Area_{cerchio}}{Area_{quadrato}}=\\dfrac{\\pi}{4}$"
   ]
  },
  {
   "cell_type": "code",
   "execution_count": null,
   "metadata": {},
   "outputs": [],
   "source": [
    "pigreco = 4*conta/n\n",
    "print(pigreco)"
   ]
  },
  {
   "cell_type": "code",
   "execution_count": null,
   "metadata": {},
   "outputs": [],
   "source": []
  }
 ],
 "metadata": {
  "kernelspec": {
   "display_name": "Python 3",
   "language": "python",
   "name": "python3"
  },
  "language_info": {
   "codemirror_mode": {
    "name": "ipython",
    "version": 3
   },
   "file_extension": ".py",
   "mimetype": "text/x-python",
   "name": "python",
   "nbconvert_exporter": "python",
   "pygments_lexer": "ipython3",
   "version": "3.7.7"
  }
 },
 "nbformat": 4,
 "nbformat_minor": 4
}
